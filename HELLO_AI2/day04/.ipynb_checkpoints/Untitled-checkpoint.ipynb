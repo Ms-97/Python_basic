{
 "cells": [
  {
   "cell_type": "code",
   "execution_count": null,
   "id": "a376a8b1",
   "metadata": {},
   "outputs": [],
   "source": [
    "import numpy as np\n",
    "import matplotlib.pyplot as plt\n",
    "import tensorflow as tf\n",
    "from tensorflow import keras\n",
    "from keras import datasets, models, layers\n",
    "\n",
    "labels = [\n",
    "    \"가\",\n",
    "    \"나\",\n",
    "    \"다\",\n",
    "    \"라\",\n",
    "    \"마\"\n",
    "  ]\n",
    "\n",
    "\n",
    "\n",
    "train_images = np.load(\"train_image.npy\")\n",
    "train_labels = np.load(\"train_label.npy\")\n",
    "\n",
    "\n",
    "print(\"Train samples:\", train_images.shape, train_labels.shape)\n",
    "\n",
    " \n",
    "\n",
    "train_images = train_images/255.0\n",
    "\n",
    "\n",
    "model = models.Sequential()\n",
    "model.add(layers.Conv2D(32, (3, 3), activation='relu', input_shape=(640, 480, 3)))\n",
    "model.add(layers.MaxPooling2D((2, 2)))\n",
    "model.add(layers.Conv2D(64, (3, 3), activation='relu'))\n",
    "model.add(layers.MaxPooling2D((2, 2)))\n",
    "model.add(layers.Conv2D(64, (3, 3), activation='relu'))\n",
    "model.add(layers.Flatten())\n",
    "model.add(layers.Dense(64, activation='relu'))\n",
    "model.add(layers.Dense(5, activation='softmax'))\n",
    "\n",
    "model.compile(optimizer='adam', loss='sparse_categorical_crossentropy', metrics=['accuracy'])\n",
    "\n",
    "model.fit(train_images, train_labels, epochs=10)\n",
    "model.save(\"ganada.h5\")\n",
    "\n",
    "\n",
    "predictions = model.predict(train_images)\n",
    "\n",
    "for i in range(460):\n",
    "    print(i,np.argmax(predictions[i]))\n",
    "\n",
    "\n",
    "\n",
    "\n",
    "\n",
    "\n"
   ]
  }
 ],
 "metadata": {
  "kernelspec": {
   "display_name": "Python 3",
   "language": "python",
   "name": "python3"
  },
  "language_info": {
   "codemirror_mode": {
    "name": "ipython",
    "version": 3
   },
   "file_extension": ".py",
   "mimetype": "text/x-python",
   "name": "python",
   "nbconvert_exporter": "python",
   "pygments_lexer": "ipython3",
   "version": "3.8.8"
  }
 },
 "nbformat": 4,
 "nbformat_minor": 5
}
